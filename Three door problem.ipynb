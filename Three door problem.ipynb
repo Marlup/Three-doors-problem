{
 "cells": [
  {
   "cell_type": "code",
   "execution_count": 102,
   "id": "86ee8dcd",
   "metadata": {},
   "outputs": [],
   "source": [
    "import numpy as np\n",
    "import pandas as pd"
   ]
  },
  {
   "cell_type": "code",
   "execution_count": 101,
   "id": "efd529d5",
   "metadata": {
    "scrolled": true
   },
   "outputs": [
    {
     "data": {
      "text/plain": [
       "[(False, True),\n",
       " (True, False),\n",
       " (True, False),\n",
       " (False, True),\n",
       " (True, False),\n",
       " (False, True),\n",
       " (False, True),\n",
       " (False, True),\n",
       " (True, False),\n",
       " (True, False)]"
      ]
     },
     "execution_count": 101,
     "metadata": {},
     "output_type": "execute_result"
    }
   ],
   "source": [
    "# Function to remove goat door in second selection, \n",
    "# select final door and \n",
    "# give win and change selection\n",
    "def remove_goat_choose(x, door1):\n",
    "    if door1 == 1:\n",
    "        x.remove(rnd_goat_door())\n",
    "    else:\n",
    "        x.remove(abs(door1 - 2))\n",
    "    door2 = np.random.choice(x, size=1).item()\n",
    "    # door2, win/loss, changed\n",
    "    #return door2, door % 2, door1 != door2\n",
    "    return bool(door2 % 2), door1 != door2\n",
    "\n",
    "# Test function\n",
    "x = [0,1,2]\n",
    "[remove_choose([0,1,2], 1) for y in range(10)]"
   ]
  },
  {
   "cell_type": "markdown",
   "id": "27499cf7",
   "metadata": {},
   "source": [
    "1 is win door. 0 and 2 are goat doors"
   ]
  },
  {
   "cell_type": "code",
   "execution_count": 110,
   "id": "44629ade",
   "metadata": {},
   "outputs": [
    {
     "data": {
      "text/plain": [
       "[(False, True),\n",
       " (False, False),\n",
       " (True, True),\n",
       " (True, False),\n",
       " (False, False),\n",
       " (False, False),\n",
       " (False, False),\n",
       " (False, False),\n",
       " (True, False),\n",
       " (True, False)]"
      ]
     },
     "execution_count": 110,
     "metadata": {},
     "output_type": "execute_result"
    }
   ],
   "source": [
    "n_repeats = 10_000\n",
    "rnd_goat_door = lambda : np.random.choice([0, 2], size=1).item()\n",
    "multi_doors = [[0,1,2] for x in range(n_repeats)]\n",
    "[np.random.shuffle(x) for x in multi_doors]\n",
    "\n",
    "doors_to_open_1 = [np.random.choice([0, 1, 2], 1).item() for x in range(n_repeats)]\n",
    "doors_to_open_2 = [remove_goat_choose(scenary, door) for scenary, door in zip(multi_doors, doors_to_open_1)]\n",
    "doors_to_open_2[:10]"
   ]
  },
  {
   "cell_type": "markdown",
   "id": "b3692397",
   "metadata": {},
   "source": [
    "Read results into a data frame"
   ]
  },
  {
   "cell_type": "code",
   "execution_count": 111,
   "id": "ad336be0",
   "metadata": {},
   "outputs": [
    {
     "data": {
      "text/html": [
       "<div>\n",
       "<style scoped>\n",
       "    .dataframe tbody tr th:only-of-type {\n",
       "        vertical-align: middle;\n",
       "    }\n",
       "\n",
       "    .dataframe tbody tr th {\n",
       "        vertical-align: top;\n",
       "    }\n",
       "\n",
       "    .dataframe thead th {\n",
       "        text-align: right;\n",
       "    }\n",
       "</style>\n",
       "<table border=\"1\" class=\"dataframe\">\n",
       "  <thead>\n",
       "    <tr style=\"text-align: right;\">\n",
       "      <th></th>\n",
       "      <th>win</th>\n",
       "      <th>changed</th>\n",
       "    </tr>\n",
       "  </thead>\n",
       "  <tbody>\n",
       "    <tr>\n",
       "      <th>0</th>\n",
       "      <td>False</td>\n",
       "      <td>True</td>\n",
       "    </tr>\n",
       "    <tr>\n",
       "      <th>1</th>\n",
       "      <td>False</td>\n",
       "      <td>False</td>\n",
       "    </tr>\n",
       "    <tr>\n",
       "      <th>2</th>\n",
       "      <td>True</td>\n",
       "      <td>True</td>\n",
       "    </tr>\n",
       "    <tr>\n",
       "      <th>3</th>\n",
       "      <td>True</td>\n",
       "      <td>False</td>\n",
       "    </tr>\n",
       "    <tr>\n",
       "      <th>4</th>\n",
       "      <td>False</td>\n",
       "      <td>False</td>\n",
       "    </tr>\n",
       "  </tbody>\n",
       "</table>\n",
       "</div>"
      ],
      "text/plain": [
       "     win  changed\n",
       "0  False     True\n",
       "1  False    False\n",
       "2   True     True\n",
       "3   True    False\n",
       "4  False    False"
      ]
     },
     "execution_count": 111,
     "metadata": {},
     "output_type": "execute_result"
    }
   ],
   "source": [
    "results = pd.DataFrame(doors_to_open_2, \n",
    "                       columns=[\"win\", \"changed\"])\n",
    "results.head()"
   ]
  },
  {
   "cell_type": "markdown",
   "id": "d2aefa2f",
   "metadata": {},
   "source": [
    "Group by *changed* and compute mean of *win* (of 1's, ie relative frequency of Trues/wins)"
   ]
  },
  {
   "cell_type": "code",
   "execution_count": 112,
   "id": "564f8f3e",
   "metadata": {},
   "outputs": [
    {
     "data": {
      "text/html": [
       "<div>\n",
       "<style scoped>\n",
       "    .dataframe tbody tr th:only-of-type {\n",
       "        vertical-align: middle;\n",
       "    }\n",
       "\n",
       "    .dataframe tbody tr th {\n",
       "        vertical-align: top;\n",
       "    }\n",
       "\n",
       "    .dataframe thead th {\n",
       "        text-align: right;\n",
       "    }\n",
       "</style>\n",
       "<table border=\"1\" class=\"dataframe\">\n",
       "  <thead>\n",
       "    <tr style=\"text-align: right;\">\n",
       "      <th></th>\n",
       "      <th>win</th>\n",
       "    </tr>\n",
       "    <tr>\n",
       "      <th>changed</th>\n",
       "      <th></th>\n",
       "    </tr>\n",
       "  </thead>\n",
       "  <tbody>\n",
       "    <tr>\n",
       "      <th>False</th>\n",
       "      <td>0.327451</td>\n",
       "    </tr>\n",
       "    <tr>\n",
       "      <th>True</th>\n",
       "      <td>0.666467</td>\n",
       "    </tr>\n",
       "  </tbody>\n",
       "</table>\n",
       "</div>"
      ],
      "text/plain": [
       "              win\n",
       "changed          \n",
       "False    0.327451\n",
       "True     0.666467"
      ]
     },
     "execution_count": 112,
     "metadata": {},
     "output_type": "execute_result"
    }
   ],
   "source": [
    "results.groupby(\"changed\").mean()"
   ]
  },
  {
   "cell_type": "code",
   "execution_count": null,
   "id": "25312e5f",
   "metadata": {},
   "outputs": [],
   "source": []
  },
  {
   "cell_type": "code",
   "execution_count": null,
   "id": "4984f877",
   "metadata": {},
   "outputs": [],
   "source": []
  }
 ],
 "metadata": {
  "kernelspec": {
   "display_name": "Python 3 (ipykernel)",
   "language": "python",
   "name": "python3"
  },
  "language_info": {
   "codemirror_mode": {
    "name": "ipython",
    "version": 3
   },
   "file_extension": ".py",
   "mimetype": "text/x-python",
   "name": "python",
   "nbconvert_exporter": "python",
   "pygments_lexer": "ipython3",
   "version": "3.9.13"
  }
 },
 "nbformat": 4,
 "nbformat_minor": 5
}
